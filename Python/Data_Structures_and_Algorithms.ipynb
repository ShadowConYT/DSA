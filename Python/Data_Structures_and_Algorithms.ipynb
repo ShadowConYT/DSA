{
  "nbformat": 4,
  "nbformat_minor": 0,
  "metadata": {
    "colab": {
      "provenance": [],
      "authorship_tag": "ABX9TyPkGMYxvwsthmww8TelTITY",
      "include_colab_link": true
    },
    "kernelspec": {
      "name": "python3",
      "display_name": "Python 3"
    },
    "language_info": {
      "name": "python"
    }
  },
  "cells": [
    {
      "cell_type": "markdown",
      "metadata": {
        "id": "view-in-github",
        "colab_type": "text"
      },
      "source": [
        "<a href=\"https://colab.research.google.com/github/ShadowConYT/DSA/blob/main/Data_Structures_and_Algorithms.ipynb\" target=\"_parent\"><img src=\"https://colab.research.google.com/assets/colab-badge.svg\" alt=\"Open In Colab\"/></a>"
      ]
    },
    {
      "cell_type": "markdown",
      "source": [
        "**Linear Search**"
      ],
      "metadata": {
        "id": "eqLz8FFVcOqo"
      }
    },
    {
      "cell_type": "code",
      "execution_count": 2,
      "metadata": {
        "id": "O_fBQfbifB6A",
        "colab": {
          "base_uri": "https://localhost:8080/"
        },
        "outputId": "a45cdd36-cf1d-4e1c-8fe6-480f0da28ae6"
      },
      "outputs": [
        {
          "output_type": "execute_result",
          "data": {
            "text/plain": [
              "2"
            ]
          },
          "metadata": {},
          "execution_count": 2
        }
      ],
      "source": [
        "def search(cards,query):\n",
        "  positions = 0\n",
        "  while positions < len(cards):\n",
        "    if cards[positions] == query:\n",
        "      return positions\n",
        "    positions += 1\n",
        "  return 'not found'\n",
        "\n",
        "lst = [1,2,3,4,5,6,7,8,9,0]\n",
        "\n",
        "search(lst,3)"
      ]
    },
    {
      "cell_type": "markdown",
      "source": [
        "**Binary Search**"
      ],
      "metadata": {
        "id": "Y1D6vovmcWMN"
      }
    },
    {
      "cell_type": "code",
      "source": [
        "def Binary(cards,low, high, query):\n",
        "  cards.sort()\n",
        "  if high >= low:\n",
        "    mid = low + (high-low)//2\n",
        "    if cards[mid] == query:\n",
        "      return mid\n",
        "    elif cards[mid] > query:\n",
        "      return Binary(cards,low, mid-1, query)\n",
        "    else:\n",
        "      return Binary(cards,mid +1, high, query)\n",
        "  else:\n",
        "    return -1\n",
        "\n",
        "Binary(lst,0, len(lst)-1, 3)"
      ],
      "metadata": {
        "colab": {
          "base_uri": "https://localhost:8080/"
        },
        "id": "La0IHcqicOKX",
        "outputId": "d37b64b5-6d9d-45ac-aed1-8bf45e6987e8"
      },
      "execution_count": 3,
      "outputs": [
        {
          "output_type": "execute_result",
          "data": {
            "text/plain": [
              "3"
            ]
          },
          "metadata": {},
          "execution_count": 3
        }
      ]
    },
    {
      "cell_type": "markdown",
      "source": [
        "**Selection Sort**"
      ],
      "metadata": {
        "id": "cnXhNTvLjwwf"
      }
    },
    {
      "cell_type": "code",
      "source": [
        "def selectionSort(arr):\n",
        "  for i in range(0,len(arr)-2):\n",
        "    mini = i # [0,1,2,3,4,5]\n",
        "    for j in range(i+1,len(arr)):\n",
        "        if arr[j] < arr[mini]:\n",
        "            mini = j\n",
        "\n",
        "    arr[i], arr[mini] = arr[mini], arr[i]\n",
        "\n",
        "  return arr\n",
        "\n",
        "arr = [58,45,78,62,2,54]\n",
        "\n",
        "selectionSort(arr)"
      ],
      "metadata": {
        "colab": {
          "base_uri": "https://localhost:8080/"
        },
        "id": "RW_88O44ju1V",
        "outputId": "49a3b438-9cca-4aa5-c1f4-c766ffe9f7a6"
      },
      "execution_count": 4,
      "outputs": [
        {
          "output_type": "execute_result",
          "data": {
            "text/plain": [
              "[2, 45, 54, 58, 62, 78]"
            ]
          },
          "metadata": {},
          "execution_count": 4
        }
      ]
    },
    {
      "cell_type": "markdown",
      "source": [
        "**Kadane's Algorithm**"
      ],
      "metadata": {
        "id": "keIHoaqX2cqL"
      }
    },
    {
      "cell_type": "code",
      "source": [
        "def kadane(arr):\n",
        "  max_curr = max_global = arr[0]\n",
        "  for i in range(1, len(arr)-1):\n",
        "    max_curr = max(arr[i],max_curr + arr[i])\n",
        "    if max_curr > max_global:\n",
        "      max_global = max_curr\n",
        "  return max_global\n",
        "\n",
        "kadane([-2,3,2,-1])"
      ],
      "metadata": {
        "colab": {
          "base_uri": "https://localhost:8080/"
        },
        "id": "k0Ci-fw02b76",
        "outputId": "5b7a718d-5096-4942-d44d-04d4c3ee3c67"
      },
      "execution_count": 1,
      "outputs": [
        {
          "output_type": "execute_result",
          "data": {
            "text/plain": [
              "5"
            ]
          },
          "metadata": {},
          "execution_count": 1
        }
      ]
    },
    {
      "cell_type": "markdown",
      "source": [
        "**Linked List**"
      ],
      "metadata": {
        "id": "YO9QITX98eHK"
      }
    },
    {
      "cell_type": "code",
      "source": [
        "class Node:\n",
        "  def __init__(self, data = None, next =None):\n",
        "    self.next = next\n",
        "    self.data = data\n",
        "\n",
        "class Linked_List:\n",
        "  def __init__(self):\n",
        "    self.head = None\n",
        "\n",
        "  def add_at_beg(self, data):\n",
        "    node = Node(data, self.head)\n",
        "    self.head = node\n",
        "\n",
        "  def print(self):\n",
        "    if self.head == None:\n",
        "      print('No List')\n",
        "      return\n",
        "\n",
        "    itr = self.head\n",
        "    lit = ''\n",
        "    while itr:\n",
        "      lit += str(itr.data) + \" --> \"\n",
        "      itr = itr.next\n",
        "\n",
        "    print(lit)\n",
        "\n",
        "  def add_at_last(self, data):\n",
        "    if self.head==None:\n",
        "      self.head = Node(data, None)\n",
        "      return\n",
        "\n",
        "    itr = self.head\n",
        "    while itr.next:\n",
        "      itr = itr.next\n",
        "\n",
        "    itr.next = Node(data, None)\n",
        "\n",
        "\n",
        "if __name__ == \"__main__\":\n",
        "  Li = Linked_List()\n",
        "  Li.add_at_beg(7)\n",
        "  Li.add_at_beg(9)\n",
        "  Li.add_at_last(6)\n",
        "  Li.add_at_beg(0)\n",
        "  Li.print()\n"
      ],
      "metadata": {
        "id": "0zBJV6PO8Z15",
        "outputId": "26f1aea6-6e6c-47dc-e5c8-9bcdf64eb640",
        "colab": {
          "base_uri": "https://localhost:8080/"
        }
      },
      "execution_count": 17,
      "outputs": [
        {
          "output_type": "stream",
          "name": "stdout",
          "text": [
            "0 --> 9 --> 7 --> 6 --> \n"
          ]
        }
      ]
    }
  ]
}