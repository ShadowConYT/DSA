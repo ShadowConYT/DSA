{
  "cells": [
    {
      "cell_type": "markdown",
      "metadata": {
        "colab_type": "text",
        "id": "view-in-github"
      },
      "source": [
        "<a href=\"https://colab.research.google.com/github/ShadowConYT/DSA/blob/main/Data_Structures_and_Algorithms.ipynb\" target=\"_parent\"><img src=\"https://colab.research.google.com/assets/colab-badge.svg\" alt=\"Open In Colab\"/></a>"
      ]
    },
    {
      "cell_type": "markdown",
      "metadata": {
        "id": "eqLz8FFVcOqo"
      },
      "source": [
        "**Linear Search**"
      ]
    },
    {
      "cell_type": "code",
      "execution_count": 1,
      "metadata": {
        "colab": {
          "base_uri": "https://localhost:8080/"
        },
        "id": "O_fBQfbifB6A",
        "outputId": "a45cdd36-cf1d-4e1c-8fe6-480f0da28ae6"
      },
      "outputs": [
        {
          "data": {
            "text/plain": [
              "2"
            ]
          },
          "execution_count": 1,
          "metadata": {},
          "output_type": "execute_result"
        }
      ],
      "source": [
        "def search(cards,query):\n",
        "  positions = 0\n",
        "  while positions < len(cards):\n",
        "    if cards[positions] == query:\n",
        "      return positions\n",
        "    positions += 1\n",
        "  return 'not found'\n",
        "\n",
        "lst = [1,2,3,4,5,6,7,8,9,0]\n",
        "\n",
        "search(lst,3)"
      ]
    },
    {
      "cell_type": "markdown",
      "metadata": {
        "id": "Y1D6vovmcWMN"
      },
      "source": [
        "**Binary Search**"
      ]
    },
    {
      "cell_type": "code",
      "execution_count": 2,
      "metadata": {
        "colab": {
          "base_uri": "https://localhost:8080/"
        },
        "id": "La0IHcqicOKX",
        "outputId": "d37b64b5-6d9d-45ac-aed1-8bf45e6987e8"
      },
      "outputs": [
        {
          "data": {
            "text/plain": [
              "3"
            ]
          },
          "execution_count": 2,
          "metadata": {},
          "output_type": "execute_result"
        }
      ],
      "source": [
        "def Binary(cards,low, high, query):\n",
        "  cards.sort()\n",
        "  if high >= low:\n",
        "    mid = low + (high-low)//2\n",
        "    if cards[mid] == query:\n",
        "      return mid\n",
        "    elif cards[mid] > query:\n",
        "      return Binary(cards,low, mid-1, query)\n",
        "    else:\n",
        "      return Binary(cards,mid +1, high, query)\n",
        "  else:\n",
        "    return -1\n",
        "\n",
        "Binary(lst,0, len(lst)-1, 3)"
      ]
    },
    {
      "cell_type": "markdown",
      "metadata": {
        "id": "cnXhNTvLjwwf"
      },
      "source": [
        "**Selection Sort**"
      ]
    },
    {
      "cell_type": "code",
      "execution_count": 5,
      "metadata": {
        "colab": {
          "base_uri": "https://localhost:8080/"
        },
        "id": "RW_88O44ju1V",
        "outputId": "49a3b438-9cca-4aa5-c1f4-c766ffe9f7a6"
      },
      "outputs": [
        {
          "name": "stdout",
          "output_type": "stream",
          "text": [
            "[6, 5, 2, 8, 9, 4]\n",
            "[2, 5, 6, 8, 9, 4]\n",
            "[2, 5, 6, 8, 9, 4]\n",
            "[2, 4, 6, 8, 9, 5]\n",
            "[2, 4, 6, 8, 9, 5]\n",
            "[2, 4, 5, 8, 9, 6]\n",
            "[2, 4, 5, 8, 9, 6]\n",
            "[2, 4, 5, 6, 9, 8]\n",
            "[2, 4, 5, 6, 9, 8]\n",
            "[2, 4, 5, 6, 8, 9]\n"
          ]
        },
        {
          "data": {
            "text/plain": [
              "[2, 4, 5, 6, 8, 9]"
            ]
          },
          "execution_count": 5,
          "metadata": {},
          "output_type": "execute_result"
        }
      ],
      "source": [
        "def selectionSort(arr):\n",
        "  for i in range(0,len(arr)-1):\n",
        "    mini = i # [0,1,2,3,4,5]\n",
        "    for j in range(i+1,len(arr)):\n",
        "        if arr[j] < arr[mini]:\n",
        "            mini = j\n",
        "    arr[i], arr[mini] = arr[mini], arr[i]\n",
        "    \n",
        "    print(arr)\n",
        "\n",
        "  return arr\n",
        "\n",
        "arr = [6,5,2,8,9,4]\n",
        "\n",
        "selectionSort(arr)"
      ]
    },
    {
      "cell_type": "markdown",
      "metadata": {
        "id": "keIHoaqX2cqL"
      },
      "source": [
        "**Kadane's Algorithm**"
      ]
    },
    {
      "cell_type": "code",
      "execution_count": 4,
      "metadata": {
        "colab": {
          "base_uri": "https://localhost:8080/"
        },
        "id": "k0Ci-fw02b76",
        "outputId": "5b7a718d-5096-4942-d44d-04d4c3ee3c67"
      },
      "outputs": [
        {
          "data": {
            "text/plain": [
              "5"
            ]
          },
          "execution_count": 4,
          "metadata": {},
          "output_type": "execute_result"
        }
      ],
      "source": [
        "def kadane(arr):\n",
        "  max_curr = max_global = arr[0]\n",
        "  for i in range(1, len(arr)-1):\n",
        "    max_curr = max(arr[i],max_curr + arr[i])\n",
        "    if max_curr > max_global:\n",
        "      max_global = max_curr\n",
        "  return max_global\n",
        "\n",
        "kadane([-2,3,2,-1])"
      ]
    },
    {
      "cell_type": "markdown",
      "metadata": {
        "id": "YO9QITX98eHK"
      },
      "source": [
        "**Linked List**"
      ]
    },
    {
      "cell_type": "code",
      "execution_count": 5,
      "metadata": {
        "colab": {
          "base_uri": "https://localhost:8080/"
        },
        "id": "0zBJV6PO8Z15",
        "outputId": "26f1aea6-6e6c-47dc-e5c8-9bcdf64eb640"
      },
      "outputs": [
        {
          "name": "stdout",
          "output_type": "stream",
          "text": [
            "0 --> 9 --> 7 --> 6 --> \n"
          ]
        }
      ],
      "source": [
        "class Node:\n",
        "  def __init__(self, data = None, next =None):\n",
        "    self.next = next\n",
        "    self.data = data\n",
        "\n",
        "class Linked_List:\n",
        "  def __init__(self):\n",
        "    self.head = None\n",
        "\n",
        "  def add_at_beg(self, data):\n",
        "    node = Node(data, self.head)\n",
        "    self.head = node\n",
        "\n",
        "  def print(self):\n",
        "    if self.head == None:\n",
        "      print('No List')\n",
        "      return\n",
        "\n",
        "    itr = self.head\n",
        "    lit = ''\n",
        "    while itr:\n",
        "      lit += str(itr.data) + \" --> \"\n",
        "      itr = itr.next\n",
        "\n",
        "    print(lit)\n",
        "\n",
        "  def add_at_last(self, data):\n",
        "    if self.head==None:\n",
        "      self.head = Node(data, None)\n",
        "      return\n",
        "\n",
        "    itr = self.head\n",
        "    while itr.next:\n",
        "      itr = itr.next\n",
        "\n",
        "    itr.next = Node(data, None)\n",
        "\n",
        "\n",
        "if __name__ == \"__main__\":\n",
        "  Li = Linked_List()\n",
        "  Li.add_at_beg(7)\n",
        "  Li.add_at_beg(9)\n",
        "  Li.add_at_last(6)\n",
        "  Li.add_at_beg(0)\n",
        "  Li.print()\n"
      ]
    },
    {
      "cell_type": "markdown",
      "metadata": {},
      "source": [
        "**Bubble Sort**"
      ]
    },
    {
      "cell_type": "code",
      "execution_count": 1,
      "metadata": {},
      "outputs": [
        {
          "data": {
            "text/plain": [
              "[0, 1, 2, 3, 4, 5, 7, 9]"
            ]
          },
          "execution_count": 1,
          "metadata": {},
          "output_type": "execute_result"
        }
      ],
      "source": [
        "def bubble(arr):\n",
        "    for i in range(len(arr)):\n",
        "        for j in range(len(arr) -1 ):\n",
        "            if arr[j] > arr[j+1]:\n",
        "                arr[j], arr[j+1] = arr[j+1], arr[j]\n",
        "    return arr\n",
        "\n",
        "# Change the > to < for Descending Sort\n",
        "\n",
        "arr = [9,5,1,4,2,3,7,0]\n",
        "bubble(arr)"
      ]
    },
    {
      "cell_type": "code",
      "execution_count": 12,
      "metadata": {},
      "outputs": [
        {
          "data": {
            "text/plain": [
              "[0, 1, 2, 3, 4, 5, 7, 9]"
            ]
          },
          "execution_count": 12,
          "metadata": {},
          "output_type": "execute_result"
        }
      ],
      "source": [
        "def insertion(arr: list) -> list:\n",
        "    for i in range(len(arr)):\n",
        "        key = arr[i]\n",
        "        j = i - 1\n",
        "        while arr[j] > key and j >= 0:\n",
        "            arr[j+1] = arr[j]\n",
        "            j -= 1\n",
        "        arr[j+1] = key\n",
        "\n",
        "    return arr\n",
        "\n",
        "arr = [9,5,1,4,2,3,7,0]\n",
        "insertion(arr)"
      ]
    }
  ],
  "metadata": {
    "colab": {
      "authorship_tag": "ABX9TyPkGMYxvwsthmww8TelTITY",
      "include_colab_link": true,
      "provenance": []
    },
    "kernelspec": {
      "display_name": "Python 3",
      "name": "python3"
    },
    "language_info": {
      "codemirror_mode": {
        "name": "ipython",
        "version": 3
      },
      "file_extension": ".py",
      "mimetype": "text/x-python",
      "name": "python",
      "nbconvert_exporter": "python",
      "pygments_lexer": "ipython3",
      "version": "3.11.6"
    }
  },
  "nbformat": 4,
  "nbformat_minor": 0
}
