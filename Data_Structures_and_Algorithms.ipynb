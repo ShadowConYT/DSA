{
  "nbformat": 4,
  "nbformat_minor": 0,
  "metadata": {
    "colab": {
      "provenance": [],
      "authorship_tag": "ABX9TyP05DmRCYpjgpZPrt6/xkzP",
      "include_colab_link": true
    },
    "kernelspec": {
      "name": "python3",
      "display_name": "Python 3"
    },
    "language_info": {
      "name": "python"
    }
  },
  "cells": [
    {
      "cell_type": "markdown",
      "metadata": {
        "id": "view-in-github",
        "colab_type": "text"
      },
      "source": [
        "<a href=\"https://colab.research.google.com/github/ShadowConYT/DSA/blob/main/Data_Structures_and_Algorithms.ipynb\" target=\"_parent\"><img src=\"https://colab.research.google.com/assets/colab-badge.svg\" alt=\"Open In Colab\"/></a>"
      ]
    },
    {
      "cell_type": "markdown",
      "source": [
        "**Linear Search**"
      ],
      "metadata": {
        "id": "eqLz8FFVcOqo"
      }
    },
    {
      "cell_type": "code",
      "execution_count": null,
      "metadata": {
        "id": "O_fBQfbifB6A",
        "colab": {
          "base_uri": "https://localhost:8080/"
        },
        "outputId": "1c0a3b07-809e-4864-afc5-a2d8db1dbfca"
      },
      "outputs": [
        {
          "output_type": "execute_result",
          "data": {
            "text/plain": [
              "2"
            ]
          },
          "metadata": {},
          "execution_count": 51
        }
      ],
      "source": [
        "def search(cards,query):\n",
        "  positions = 0\n",
        "  while positions < len(cards):\n",
        "    if cards[positions] == query:\n",
        "      return positions\n",
        "    positions += 1\n",
        "  return 'not found'\n",
        "\n",
        "lst = [1,2,3,4,5,6,7,8,9,0]\n",
        "\n",
        "search(lst,3)"
      ]
    },
    {
      "cell_type": "markdown",
      "source": [
        "**Binary Search**"
      ],
      "metadata": {
        "id": "Y1D6vovmcWMN"
      }
    },
    {
      "cell_type": "code",
      "source": [
        "def Binary(cards,low, high, query):\n",
        "  cards.sort()\n",
        "  if high >= low:\n",
        "    mid = low + (high-low)//2\n",
        "    if cards[mid] == query:\n",
        "      return mid\n",
        "    elif cards[mid] > query:\n",
        "      return Binary(cards,low, mid-1, query)\n",
        "    else:\n",
        "      return Binary(cards,mid +1, high, query)\n",
        "  else:\n",
        "    return -1\n",
        "\n",
        "Binary(lst,0, len(lst)-1, 3)"
      ],
      "metadata": {
        "colab": {
          "base_uri": "https://localhost:8080/"
        },
        "id": "La0IHcqicOKX",
        "outputId": "0fbaa53c-7f33-4326-a740-9eeef703b41e"
      },
      "execution_count": null,
      "outputs": [
        {
          "output_type": "execute_result",
          "data": {
            "text/plain": [
              "3"
            ]
          },
          "metadata": {},
          "execution_count": 52
        }
      ]
    }
  ]
}