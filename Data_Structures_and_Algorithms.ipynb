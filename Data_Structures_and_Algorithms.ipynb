{
  "nbformat": 4,
  "nbformat_minor": 0,
  "metadata": {
    "colab": {
      "provenance": [],
      "authorship_tag": "ABX9TyPmrvJvDNFkX6MsHM+SHhpM",
      "include_colab_link": true
    },
    "kernelspec": {
      "name": "python3",
      "display_name": "Python 3"
    },
    "language_info": {
      "name": "python"
    }
  },
  "cells": [
    {
      "cell_type": "markdown",
      "metadata": {
        "id": "view-in-github",
        "colab_type": "text"
      },
      "source": [
        "<a href=\"https://colab.research.google.com/github/ShadowConYT/DSA/blob/main/Data_Structures_and_Algorithms.ipynb\" target=\"_parent\"><img src=\"https://colab.research.google.com/assets/colab-badge.svg\" alt=\"Open In Colab\"/></a>"
      ]
    },
    {
      "cell_type": "markdown",
      "source": [
        "**Linear Search**"
      ],
      "metadata": {
        "id": "eqLz8FFVcOqo"
      }
    },
    {
      "cell_type": "code",
      "execution_count": 1,
      "metadata": {
        "id": "O_fBQfbifB6A",
        "colab": {
          "base_uri": "https://localhost:8080/"
        },
        "outputId": "f0941846-8902-42e9-a07b-5526850b8d96"
      },
      "outputs": [
        {
          "output_type": "execute_result",
          "data": {
            "text/plain": [
              "2"
            ]
          },
          "metadata": {},
          "execution_count": 1
        }
      ],
      "source": [
        "def search(cards,query):\n",
        "  positions = 0\n",
        "  while positions < len(cards):\n",
        "    if cards[positions] == query:\n",
        "      return positions\n",
        "    positions += 1\n",
        "  return 'not found'\n",
        "\n",
        "lst = [1,2,3,4,5,6,7,8,9,0]\n",
        "\n",
        "search(lst,3)"
      ]
    },
    {
      "cell_type": "markdown",
      "source": [
        "**Binary Search**"
      ],
      "metadata": {
        "id": "Y1D6vovmcWMN"
      }
    },
    {
      "cell_type": "code",
      "source": [
        "def Binary(cards,low, high, query):\n",
        "  cards.sort()\n",
        "  if high >= low:\n",
        "    mid = low + (high-low)//2\n",
        "    if cards[mid] == query:\n",
        "      return mid\n",
        "    elif cards[mid] > query:\n",
        "      return Binary(cards,low, mid-1, query)\n",
        "    else:\n",
        "      return Binary(cards,mid +1, high, query)\n",
        "  else:\n",
        "    return -1\n",
        "\n",
        "Binary(lst,0, len(lst)-1, 3)"
      ],
      "metadata": {
        "colab": {
          "base_uri": "https://localhost:8080/"
        },
        "id": "La0IHcqicOKX",
        "outputId": "ca92e299-7840-427b-b298-9b82a7b63f98"
      },
      "execution_count": 2,
      "outputs": [
        {
          "output_type": "execute_result",
          "data": {
            "text/plain": [
              "3"
            ]
          },
          "metadata": {},
          "execution_count": 2
        }
      ]
    },
    {
      "cell_type": "markdown",
      "source": [
        "**Selection Sort**"
      ],
      "metadata": {
        "id": "cnXhNTvLjwwf"
      }
    },
    {
      "cell_type": "code",
      "source": [
        "def selectionSort(arr):\n",
        "  for i in range(0,len(arr)-2):\n",
        "    mini = i # [0,1,2,3,4,5]\n",
        "    for j in range(i+1,len(arr)):\n",
        "        if arr[j] < arr[mini]:\n",
        "            mini = j\n",
        "\n",
        "    arr[i], arr[mini] = arr[mini], arr[i]\n",
        "\n",
        "  return arr\n",
        "\n",
        "arr = [58,45,78,62,2,54]\n",
        "\n",
        "selectionSort(arr)"
      ],
      "metadata": {
        "colab": {
          "base_uri": "https://localhost:8080/"
        },
        "id": "RW_88O44ju1V",
        "outputId": "6f6b3f5c-b796-4fe8-f03b-f37e75a22e04"
      },
      "execution_count": 3,
      "outputs": [
        {
          "output_type": "execute_result",
          "data": {
            "text/plain": [
              "[2, 45, 54, 58, 62, 78]"
            ]
          },
          "metadata": {},
          "execution_count": 3
        }
      ]
    },
    {
      "cell_type": "markdown",
      "source": [
        "**Kadane's Algorithm**"
      ],
      "metadata": {
        "id": "keIHoaqX2cqL"
      }
    },
    {
      "cell_type": "code",
      "source": [
        "def kadane(arr):\n",
        "  max_curr = max_global = arr[0]\n",
        "  for i in range(1, len(arr)-1):\n",
        "    max_curr = max(arr[i],max_curr + arr[i])\n",
        "    if max_curr > max_global:\n",
        "      max_global = max_curr\n",
        "  return max_global\n",
        "\n",
        "kadane([-2,3,2,-1])"
      ],
      "metadata": {
        "colab": {
          "base_uri": "https://localhost:8080/"
        },
        "id": "k0Ci-fw02b76",
        "outputId": "9024e5c8-de8f-4d62-ec60-26edd2aedd1a"
      },
      "execution_count": 10,
      "outputs": [
        {
          "output_type": "execute_result",
          "data": {
            "text/plain": [
              "5"
            ]
          },
          "metadata": {},
          "execution_count": 10
        }
      ]
    }
  ]
}